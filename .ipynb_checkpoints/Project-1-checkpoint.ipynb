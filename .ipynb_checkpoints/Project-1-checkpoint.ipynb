{
 "cells": [
  {
   "cell_type": "code",
   "execution_count": 27,
   "id": "cff2c7d5",
   "metadata": {
    "slideshow": {
     "slide_type": "-"
    }
   },
   "outputs": [],
   "source": [
    "# Loading packages\n",
    "import pandas as pd\n",
    "import numpy as np\n"
   ]
  },
  {
   "cell_type": "code",
   "execution_count": 66,
   "id": "9a2b1726",
   "metadata": {},
   "outputs": [],
   "source": [
    "# Importing data\n",
    "# 1. Importing Boston Airbnb data\n",
    "boston_calendar = pd.read_csv(\"Boston\\calendar.csv\")\n",
    "boston_listings  = pd.read_csv(\"Boston\\listings.csv\")\n",
    "#boston_reviews  = pd.read_csv(\"Boston\\reviews.csv\", skip_blank_lines=True, delimiter = \" \")\n",
    "\n",
    "# 2. Importing Seattle Airbnb data\n",
    "seattle_calendar = pd.read_csv(\"Seattle\\calendar.csv\")\n",
    "seattle_listings = pd.read_csv(\"Seattle\\listings.csv\")\n",
    "#seattle_reviews = pd.read_csv(\"Seattle\\reviews.csv\")\n"
   ]
  },
  {
   "cell_type": "code",
   "execution_count": 153,
   "id": "2927f5b2",
   "metadata": {},
   "outputs": [
    {
     "data": {
      "text/plain": [
       "(3585, 88)"
      ]
     },
     "execution_count": 153,
     "metadata": {},
     "output_type": "execute_result"
    }
   ],
   "source": [
    "# Cleaning and joining Boston data\n",
    "#1. Drop NaN values in \"boston_calendar\" dataframe\n",
    "#boston_calendar.isna().sum()/boston_calendar.shape[0]\n",
    "#boston_listings.isna().sum()/boston_listings.shape[0]\n",
    "\n",
    "boston_calendar_ = boston_calendar.dropna(axis=0)\n",
    "\n",
    "#####\n",
    "def col_drop(df, param=0.5):\n",
    "    \"\"\"This function eliminates columns with more than \"param\" percent of NaN values.\n",
    "    By default 50% of NaN values.\n",
    "    INPUT:\n",
    "        df: is the name of the data frame.\n",
    "        param: is a default parameter, that refers to maximum % of NaN values permited in a column.\n",
    "    OUTPUT\n",
    "        df_ : a DataFrame with columns with only the columns that satisfy the conditions above descrived.\n",
    "    \"\"\"\n",
    "    df_=pd.DataFrame()\n",
    "    for i in df:\n",
    "        if df[i].isna().sum()/df.shape[0] < param:\n",
    "                df_[i] = df[i]\n",
    "    return df_\n",
    "#######\n",
    "\n",
    "boston_listings_ = col_drop(boston_listings, param=0.7)   \n",
    "\n",
    "boston_listings_.shape\n",
    "\n"
   ]
  },
  {
   "cell_type": "code",
   "execution_count": 137,
   "id": "3c3b3527",
   "metadata": {},
   "outputs": [
    {
     "data": {
      "text/plain": [
       "(3585, 95)"
      ]
     },
     "execution_count": 137,
     "metadata": {},
     "output_type": "execute_result"
    }
   ],
   "source": [
    "# Cleaning and joining Sea\n",
    "        \n"
   ]
  },
  {
   "cell_type": "code",
   "execution_count": null,
   "id": "3e45eeda",
   "metadata": {},
   "outputs": [],
   "source": []
  }
 ],
 "metadata": {
  "kernelspec": {
   "display_name": "Python 3 (ipykernel)",
   "language": "python",
   "name": "python3"
  },
  "language_info": {
   "codemirror_mode": {
    "name": "ipython",
    "version": 3
   },
   "file_extension": ".py",
   "mimetype": "text/x-python",
   "name": "python",
   "nbconvert_exporter": "python",
   "pygments_lexer": "ipython3",
   "version": "3.9.12"
  }
 },
 "nbformat": 4,
 "nbformat_minor": 5
}
